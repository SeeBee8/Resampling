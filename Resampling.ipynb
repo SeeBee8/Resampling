{
 "cells": [
  {
   "cell_type": "markdown",
   "id": "0a8de8b1-634e-4edd-86b9-90708c2337f9",
   "metadata": {},
   "source": [
    "# Resampling Datetime Data (Core)\n",
    "\n",
    "\n",
    "*Christina Brockway*"
   ]
  },
  {
   "cell_type": "markdown",
   "id": "1c8340f8-f5b6-433a-aa74-fe83fd8c3509",
   "metadata": {},
   "source": [
    "Use weather data from London from Kaggle:  https://www.kaggle.com/datasets/emmanuelfwerr/london-weather-data\n",
    "\n",
    "A modified version for this project:  https://docs.google.com/spreadsheets/d/1J2hEGA1-ZOdXOc1Go2AjB7xShq-nAvIDpBz_XRZscHU/edit?usp=sharing\n"
   ]
  },
  {
   "cell_type": "markdown",
   "id": "71b6d575-aae9-4305-8077-7be72250ddae",
   "metadata": {},
   "source": [
    "## Imports"
   ]
  },
  {
   "cell_type": "code",
   "execution_count": 1,
   "id": "89b9d4c4-8272-4e52-ad37-bfb29e491f28",
   "metadata": {},
   "outputs": [],
   "source": [
    "import pandas as pd\n",
    "import matplotlib.pyplot as plt\n",
    "import matplotlib.dates as mdates\n",
    "import matplotlib.ticker as mticks\n",
    "\n",
    "import missingno as msno\n",
    "\n",
    "import seaborn as sns\n",
    "import numpy as np\n",
    "\n",
    "import datetime as dt\n",
    "\n"
   ]
  },
  {
   "cell_type": "code",
   "execution_count": 2,
   "id": "ed999aaa-c90f-4167-affe-ae0976017801",
   "metadata": {},
   "outputs": [],
   "source": [
    "sns.set_context('notebook', font_scale=0.9)\n",
    "plt.style.use(['ggplot'])"
   ]
  },
  {
   "cell_type": "markdown",
   "id": "ae333684-4876-4826-9c3b-de6f046678e0",
   "metadata": {},
   "source": [
    "## Load Data"
   ]
  },
  {
   "cell_type": "code",
   "execution_count": 3,
   "id": "0cb73425-705a-4771-95b5-49a97b7b1653",
   "metadata": {},
   "outputs": [
    {
     "data": {
      "text/html": [
       "<div>\n",
       "<style scoped>\n",
       "    .dataframe tbody tr th:only-of-type {\n",
       "        vertical-align: middle;\n",
       "    }\n",
       "\n",
       "    .dataframe tbody tr th {\n",
       "        vertical-align: top;\n",
       "    }\n",
       "\n",
       "    .dataframe thead th {\n",
       "        text-align: right;\n",
       "    }\n",
       "</style>\n",
       "<table border=\"1\" class=\"dataframe\">\n",
       "  <thead>\n",
       "    <tr style=\"text-align: right;\">\n",
       "      <th></th>\n",
       "      <th>date</th>\n",
       "      <th>cloud_cover</th>\n",
       "      <th>sunshine</th>\n",
       "      <th>global_radiation</th>\n",
       "      <th>max_temp</th>\n",
       "      <th>mean_temp</th>\n",
       "      <th>min_temp</th>\n",
       "      <th>precipitation</th>\n",
       "      <th>pressure</th>\n",
       "      <th>snow_depth</th>\n",
       "    </tr>\n",
       "  </thead>\n",
       "  <tbody>\n",
       "    <tr>\n",
       "      <th>15336</th>\n",
       "      <td>20201227</td>\n",
       "      <td>1.0</td>\n",
       "      <td>0.9</td>\n",
       "      <td>32.0</td>\n",
       "      <td>7.5</td>\n",
       "      <td>7.5</td>\n",
       "      <td>7.6</td>\n",
       "      <td>2.0</td>\n",
       "      <td>98000.0</td>\n",
       "      <td>NaN</td>\n",
       "    </tr>\n",
       "    <tr>\n",
       "      <th>15337</th>\n",
       "      <td>20201228</td>\n",
       "      <td>7.0</td>\n",
       "      <td>3.7</td>\n",
       "      <td>38.0</td>\n",
       "      <td>3.6</td>\n",
       "      <td>1.1</td>\n",
       "      <td>-1.3</td>\n",
       "      <td>0.2</td>\n",
       "      <td>97370.0</td>\n",
       "      <td>NaN</td>\n",
       "    </tr>\n",
       "    <tr>\n",
       "      <th>15338</th>\n",
       "      <td>20201229</td>\n",
       "      <td>7.0</td>\n",
       "      <td>0.0</td>\n",
       "      <td>21.0</td>\n",
       "      <td>4.1</td>\n",
       "      <td>2.6</td>\n",
       "      <td>1.1</td>\n",
       "      <td>0.0</td>\n",
       "      <td>98830.0</td>\n",
       "      <td>NaN</td>\n",
       "    </tr>\n",
       "    <tr>\n",
       "      <th>15339</th>\n",
       "      <td>20201230</td>\n",
       "      <td>6.0</td>\n",
       "      <td>0.4</td>\n",
       "      <td>22.0</td>\n",
       "      <td>5.6</td>\n",
       "      <td>2.7</td>\n",
       "      <td>-0.1</td>\n",
       "      <td>0.0</td>\n",
       "      <td>100200.0</td>\n",
       "      <td>NaN</td>\n",
       "    </tr>\n",
       "    <tr>\n",
       "      <th>15340</th>\n",
       "      <td>20201231</td>\n",
       "      <td>7.0</td>\n",
       "      <td>1.3</td>\n",
       "      <td>34.0</td>\n",
       "      <td>1.5</td>\n",
       "      <td>-0.8</td>\n",
       "      <td>-3.1</td>\n",
       "      <td>0.0</td>\n",
       "      <td>100500.0</td>\n",
       "      <td>NaN</td>\n",
       "    </tr>\n",
       "  </tbody>\n",
       "</table>\n",
       "</div>"
      ],
      "text/plain": [
       "           date  cloud_cover  sunshine  global_radiation  max_temp  mean_temp  \\\n",
       "15336  20201227          1.0       0.9              32.0       7.5        7.5   \n",
       "15337  20201228          7.0       3.7              38.0       3.6        1.1   \n",
       "15338  20201229          7.0       0.0              21.0       4.1        2.6   \n",
       "15339  20201230          6.0       0.4              22.0       5.6        2.7   \n",
       "15340  20201231          7.0       1.3              34.0       1.5       -0.8   \n",
       "\n",
       "       min_temp  precipitation  pressure  snow_depth  \n",
       "15336       7.6            2.0   98000.0         NaN  \n",
       "15337      -1.3            0.2   97370.0         NaN  \n",
       "15338       1.1            0.0   98830.0         NaN  \n",
       "15339      -0.1            0.0  100200.0         NaN  \n",
       "15340      -3.1            0.0  100500.0         NaN  "
      ]
     },
     "execution_count": 3,
     "metadata": {},
     "output_type": "execute_result"
    }
   ],
   "source": [
    "\n",
    "df=pd.read_csv('data/london_weather_MODIFIED - london_weather_MODIFIED.csv')\n",
    "df.head()\n",
    "df.tail()"
   ]
  },
  {
   "cell_type": "markdown",
   "id": "02accf2b-2cfd-4ef8-a4ab-bbfb68a313a8",
   "metadata": {},
   "source": [
    "## Convert to datetime dtype"
   ]
  },
  {
   "cell_type": "code",
   "execution_count": 4,
   "id": "a61571d6-6ae0-4b94-8116-a1220f2845e9",
   "metadata": {},
   "outputs": [],
   "source": [
    "df['date'] = pd.to_datetime(df['date'], format='%Y%m%d')\n",
    "df['date'] = pd.to_datetime(df['date'].dt.strftime('%B %Y'))"
   ]
  },
  {
   "cell_type": "markdown",
   "id": "30fd5afd-b3d4-4041-b515-0684e39ac0f2",
   "metadata": {},
   "source": [
    "### Set date column as index"
   ]
  },
  {
   "cell_type": "code",
   "execution_count": 5,
   "id": "2979a8d6-a274-469a-9c16-7865e65a9890",
   "metadata": {},
   "outputs": [
    {
     "data": {
      "text/html": [
       "<div>\n",
       "<style scoped>\n",
       "    .dataframe tbody tr th:only-of-type {\n",
       "        vertical-align: middle;\n",
       "    }\n",
       "\n",
       "    .dataframe tbody tr th {\n",
       "        vertical-align: top;\n",
       "    }\n",
       "\n",
       "    .dataframe thead th {\n",
       "        text-align: right;\n",
       "    }\n",
       "</style>\n",
       "<table border=\"1\" class=\"dataframe\">\n",
       "  <thead>\n",
       "    <tr style=\"text-align: right;\">\n",
       "      <th></th>\n",
       "      <th>cloud_cover</th>\n",
       "      <th>sunshine</th>\n",
       "      <th>global_radiation</th>\n",
       "      <th>max_temp</th>\n",
       "      <th>mean_temp</th>\n",
       "      <th>min_temp</th>\n",
       "      <th>precipitation</th>\n",
       "      <th>pressure</th>\n",
       "      <th>snow_depth</th>\n",
       "    </tr>\n",
       "    <tr>\n",
       "      <th>date</th>\n",
       "      <th></th>\n",
       "      <th></th>\n",
       "      <th></th>\n",
       "      <th></th>\n",
       "      <th></th>\n",
       "      <th></th>\n",
       "      <th></th>\n",
       "      <th></th>\n",
       "      <th></th>\n",
       "    </tr>\n",
       "  </thead>\n",
       "  <tbody>\n",
       "    <tr>\n",
       "      <th>1979-01-01</th>\n",
       "      <td>2.0</td>\n",
       "      <td>7.0</td>\n",
       "      <td>52.0</td>\n",
       "      <td>2.3</td>\n",
       "      <td>-4.1</td>\n",
       "      <td>-7.5</td>\n",
       "      <td>0.4</td>\n",
       "      <td>101900.0</td>\n",
       "      <td>9.0</td>\n",
       "    </tr>\n",
       "  </tbody>\n",
       "</table>\n",
       "</div>"
      ],
      "text/plain": [
       "            cloud_cover  sunshine  global_radiation  max_temp  mean_temp  \\\n",
       "date                                                                       \n",
       "1979-01-01          2.0       7.0              52.0       2.3       -4.1   \n",
       "\n",
       "            min_temp  precipitation  pressure  snow_depth  \n",
       "date                                                       \n",
       "1979-01-01      -7.5            0.4  101900.0         9.0  "
      ]
     },
     "execution_count": 5,
     "metadata": {},
     "output_type": "execute_result"
    }
   ],
   "source": [
    "df= df.set_index('date')\n",
    "df.head(1)"
   ]
  },
  {
   "cell_type": "markdown",
   "id": "01c022e8-b008-4bbf-a881-193421bd9a10",
   "metadata": {},
   "source": [
    "### Filter out dates from 2000 on and keep only:\n",
    "-  precipitation\n",
    "-  mean temp\n",
    "-  max temp\n",
    "-  min temp\n",
    "-  snow depth"
   ]
  },
  {
   "cell_type": "code",
   "execution_count": 6,
   "id": "418df2fe-495b-472d-83fa-d5e0844523f7",
   "metadata": {},
   "outputs": [],
   "source": [
    "df.sort_index()\n",
    "#Slide dates\n",
    "From = \"20000101\"\n",
    "To = \"20201231\"\n",
    "dff= df.copy()\n",
    "dff=dff.loc[:,['precipitation', 'mean_temp', 'min_temp', 'max_temp', 'snow_depth']]"
   ]
  },
  {
   "cell_type": "code",
   "execution_count": null,
   "id": "2ffb6361-9419-4b32-953d-17019a09428d",
   "metadata": {},
   "outputs": [],
   "source": []
  },
  {
   "cell_type": "markdown",
   "id": "94d4a86e-8539-4d81-94a0-443bdf440646",
   "metadata": {},
   "source": [
    "### Impute missing values"
   ]
  },
  {
   "cell_type": "code",
   "execution_count": 7,
   "id": "5b4b9ca5-1fd4-4d0e-8380-d39eec2d9554",
   "metadata": {},
   "outputs": [
    {
     "data": {
      "text/plain": [
       "precipitation     390\n",
       "mean_temp         419\n",
       "min_temp          386\n",
       "max_temp          390\n",
       "snow_depth       1752\n",
       "dtype: int64"
      ]
     },
     "execution_count": 7,
     "metadata": {},
     "output_type": "execute_result"
    }
   ],
   "source": [
    "dff.isna().sum()"
   ]
  },
  {
   "cell_type": "code",
   "execution_count": 8,
   "id": "bfb2542e-afc6-40ae-8070-809ccbae8207",
   "metadata": {},
   "outputs": [],
   "source": [
    "#interpolate temperature measures\n",
    "dff['mean_temp'] = dff['mean_temp'].interpolate()\n",
    "dff['max_temp'] = dff['max_temp'].interpolate()\n",
    "dff['min_temp'] = dff['min_temp'].interpolate()"
   ]
  },
  {
   "cell_type": "code",
   "execution_count": 9,
   "id": "bc07b745-d1d3-4a67-8340-399025985450",
   "metadata": {},
   "outputs": [],
   "source": [
    "#Fill precipitation values with 0\n",
    "dff['precipitation']= dff['precipitation'].fillna(0)\n",
    "dff['snow_depth'] = dff['snow_depth'].fillna(0)"
   ]
  },
  {
   "cell_type": "code",
   "execution_count": 10,
   "id": "6b65ab2a-b122-4483-8b60-d1b9451d1522",
   "metadata": {},
   "outputs": [
    {
     "data": {
      "text/plain": [
       "precipitation    0\n",
       "mean_temp        0\n",
       "min_temp         0\n",
       "max_temp         0\n",
       "snow_depth       0\n",
       "dtype: int64"
      ]
     },
     "execution_count": 10,
     "metadata": {},
     "output_type": "execute_result"
    }
   ],
   "source": [
    "dff.isna().sum()\n"
   ]
  },
  {
   "cell_type": "code",
   "execution_count": 11,
   "id": "4fb624b9-23e3-46f5-9bcf-fdca820d4446",
   "metadata": {},
   "outputs": [
    {
     "data": {
      "text/html": [
       "<div>\n",
       "<style scoped>\n",
       "    .dataframe tbody tr th:only-of-type {\n",
       "        vertical-align: middle;\n",
       "    }\n",
       "\n",
       "    .dataframe tbody tr th {\n",
       "        vertical-align: top;\n",
       "    }\n",
       "\n",
       "    .dataframe thead th {\n",
       "        text-align: right;\n",
       "    }\n",
       "</style>\n",
       "<table border=\"1\" class=\"dataframe\">\n",
       "  <thead>\n",
       "    <tr style=\"text-align: right;\">\n",
       "      <th></th>\n",
       "      <th>precipitation</th>\n",
       "      <th>mean_temp</th>\n",
       "      <th>min_temp</th>\n",
       "      <th>max_temp</th>\n",
       "      <th>snow_depth</th>\n",
       "    </tr>\n",
       "    <tr>\n",
       "      <th>date</th>\n",
       "      <th></th>\n",
       "      <th></th>\n",
       "      <th></th>\n",
       "      <th></th>\n",
       "      <th></th>\n",
       "    </tr>\n",
       "  </thead>\n",
       "  <tbody>\n",
       "    <tr>\n",
       "      <th>2010-12-01</th>\n",
       "      <td>5.0</td>\n",
       "      <td>0.2</td>\n",
       "      <td>-4.6</td>\n",
       "      <td>8.0</td>\n",
       "      <td>1.0</td>\n",
       "    </tr>\n",
       "    <tr>\n",
       "      <th>2010-12-01</th>\n",
       "      <td>0.4</td>\n",
       "      <td>5.3</td>\n",
       "      <td>2.5</td>\n",
       "      <td>9.5</td>\n",
       "      <td>0.0</td>\n",
       "    </tr>\n",
       "    <tr>\n",
       "      <th>2010-12-01</th>\n",
       "      <td>1.4</td>\n",
       "      <td>6.8</td>\n",
       "      <td>4.1</td>\n",
       "      <td>7.7</td>\n",
       "      <td>0.0</td>\n",
       "    </tr>\n",
       "    <tr>\n",
       "      <th>2010-12-01</th>\n",
       "      <td>0.0</td>\n",
       "      <td>6.9</td>\n",
       "      <td>6.1</td>\n",
       "      <td>6.8</td>\n",
       "      <td>0.0</td>\n",
       "    </tr>\n",
       "    <tr>\n",
       "      <th>2010-12-01</th>\n",
       "      <td>0.0</td>\n",
       "      <td>5.9</td>\n",
       "      <td>5.0</td>\n",
       "      <td>7.2</td>\n",
       "      <td>0.0</td>\n",
       "    </tr>\n",
       "  </tbody>\n",
       "</table>\n",
       "</div>"
      ],
      "text/plain": [
       "            precipitation  mean_temp  min_temp  max_temp  snow_depth\n",
       "date                                                                \n",
       "2010-12-01            5.0        0.2      -4.6       8.0         1.0\n",
       "2010-12-01            0.4        5.3       2.5       9.5         0.0\n",
       "2010-12-01            1.4        6.8       4.1       7.7         0.0\n",
       "2010-12-01            0.0        6.9       6.1       6.8         0.0\n",
       "2010-12-01            0.0        5.9       5.0       7.2         0.0"
      ]
     },
     "execution_count": 11,
     "metadata": {},
     "output_type": "execute_result"
    }
   ],
   "source": [
    "temp=dff.loc['20000101':\"20101231\"]\n",
    "temp.tail()"
   ]
  },
  {
   "cell_type": "code",
   "execution_count": null,
   "id": "6e44375c-f650-4ca1-8c77-a9bf1ca40992",
   "metadata": {},
   "outputs": [],
   "source": []
  },
  {
   "cell_type": "markdown",
   "id": "eb24be81-7f13-4a01-b460-c569180a0b16",
   "metadata": {},
   "source": [
    "# Q1 What month had the most precipitation between 2000 through 2010?"
   ]
  },
  {
   "cell_type": "code",
   "execution_count": 12,
   "id": "5395ac2b-959e-49b5-b056-2046501c8b5b",
   "metadata": {
    "scrolled": true
   },
   "outputs": [
    {
     "data": {
      "text/html": [
       "<div>\n",
       "<style scoped>\n",
       "    .dataframe tbody tr th:only-of-type {\n",
       "        vertical-align: middle;\n",
       "    }\n",
       "\n",
       "    .dataframe tbody tr th {\n",
       "        vertical-align: top;\n",
       "    }\n",
       "\n",
       "    .dataframe thead th {\n",
       "        text-align: right;\n",
       "    }\n",
       "</style>\n",
       "<table border=\"1\" class=\"dataframe\">\n",
       "  <thead>\n",
       "    <tr style=\"text-align: right;\">\n",
       "      <th></th>\n",
       "      <th>precipitation</th>\n",
       "      <th>mean_temp</th>\n",
       "      <th>min_temp</th>\n",
       "      <th>max_temp</th>\n",
       "      <th>snow_depth</th>\n",
       "    </tr>\n",
       "    <tr>\n",
       "      <th>date</th>\n",
       "      <th></th>\n",
       "      <th></th>\n",
       "      <th></th>\n",
       "      <th></th>\n",
       "      <th></th>\n",
       "    </tr>\n",
       "  </thead>\n",
       "  <tbody>\n",
       "    <tr>\n",
       "      <th>2000-01-01</th>\n",
       "      <td>14.3</td>\n",
       "      <td>174.05</td>\n",
       "      <td>82.10</td>\n",
       "      <td>262.95</td>\n",
       "      <td>0.0</td>\n",
       "    </tr>\n",
       "    <tr>\n",
       "      <th>2000-02-01</th>\n",
       "      <td>62.2</td>\n",
       "      <td>208.25</td>\n",
       "      <td>113.20</td>\n",
       "      <td>298.50</td>\n",
       "      <td>0.0</td>\n",
       "    </tr>\n",
       "    <tr>\n",
       "      <th>2000-03-01</th>\n",
       "      <td>13.4</td>\n",
       "      <td>263.25</td>\n",
       "      <td>151.65</td>\n",
       "      <td>377.45</td>\n",
       "      <td>0.0</td>\n",
       "    </tr>\n",
       "    <tr>\n",
       "      <th>2000-04-01</th>\n",
       "      <td>71.8</td>\n",
       "      <td>269.90</td>\n",
       "      <td>158.25</td>\n",
       "      <td>394.85</td>\n",
       "      <td>0.0</td>\n",
       "    </tr>\n",
       "    <tr>\n",
       "      <th>2000-05-01</th>\n",
       "      <td>68.4</td>\n",
       "      <td>427.75</td>\n",
       "      <td>295.40</td>\n",
       "      <td>556.30</td>\n",
       "      <td>0.0</td>\n",
       "    </tr>\n",
       "  </tbody>\n",
       "</table>\n",
       "</div>"
      ],
      "text/plain": [
       "            precipitation  mean_temp  min_temp  max_temp  snow_depth\n",
       "date                                                                \n",
       "2000-01-01           14.3     174.05     82.10    262.95         0.0\n",
       "2000-02-01           62.2     208.25    113.20    298.50         0.0\n",
       "2000-03-01           13.4     263.25    151.65    377.45         0.0\n",
       "2000-04-01           71.8     269.90    158.25    394.85         0.0\n",
       "2000-05-01           68.4     427.75    295.40    556.30         0.0"
      ]
     },
     "execution_count": 12,
     "metadata": {},
     "output_type": "execute_result"
    }
   ],
   "source": [
    "## Resample using .sum()\n",
    "temp1=temp.resample(\"MS\").sum()\n",
    "temp1.head()"
   ]
  },
  {
   "cell_type": "code",
   "execution_count": 13,
   "id": "559f356e-4a7a-4532-bfe4-41ab465182b9",
   "metadata": {},
   "outputs": [],
   "source": [
    "max_prep = temp1['precipitation'].idxmax()\n",
    "locmonths = mdates.MonthLocator(interval=3)\n",
    "locyear = mdates.YearLocator(1)\n",
    "fmtyear = mdates.DateFormatter(\"%Y\")\n",
    "titlep=  'Precipitation for 2000-2010'\n",
    "ylabel = 'Inches'"
   ]
  },
  {
   "cell_type": "code",
   "execution_count": 14,
   "id": "66cafddd-00b5-403f-94b9-0a923062163b",
   "metadata": {},
   "outputs": [
    {
     "data": {
      "text/plain": [
       "'November 2009'"
      ]
     },
     "execution_count": 14,
     "metadata": {},
     "output_type": "execute_result"
    }
   ],
   "source": [
    "max_prep = temp1['precipitation'].idxmax(axis=0).strftime('%B %Y')\n",
    "max_prep\n",
    "\n",
    "#adapted from: askpython.com/python/examples/obtain-current-year-and-month"
   ]
  },
  {
   "cell_type": "code",
   "execution_count": 15,
   "id": "d4332923-b45b-46a1-9792-91e57786c792",
   "metadata": {
    "scrolled": true
   },
   "outputs": [
    {
     "data": {
      "image/png": "[encoded data removed]",
      "text/plain": [
       "<Figure size 1200x300 with 1 Axes>"
      ]
     },
     "metadata": {},
     "output_type": "display_data"
    }
   ],
   "source": [
    "fig, ax = plt.subplots(figsize=(12,3))\n",
    "\n",
    "#Set ticklabel format\n",
    "ax.set_xticks(ax.get_xticks())\n",
    "ax.set_xticklabels(ax.get_xticklabels(), fontsize = 'large', fontweight= 'bold')\n",
    "\n",
    "#Set major ticks\n",
    "ax.xaxis.set_major_locator(locyear)\n",
    "ax.xaxis.set_major_formatter(fmtyear)\n",
    "\n",
    "#Set minor ticks\n",
    "ax.xaxis.set_minor_locator(locmonths)\n",
    "\n",
    "fig.autofmt_xdate(which='major', rotation=90)\n",
    "temp1['precipitation'].plot(ax=ax, title=titlep)\n",
    "ax.axvline(max_prep, color='blue', linestyle= \"--\", label=f'{max_prep}')\n",
    "ax.legend(bbox_to_anchor=[1,1]);ax.legend(bbox_to_anchor=[1,1])\n",
    "ax.set_ylabel(ylabel)\n",
    "plt.show();\n",
    "\n"
   ]
  },
  {
   "cell_type": "markdown",
   "id": "22b68a2a-afb7-4daf-a1c0-be39d6dfb250",
   "metadata": {},
   "source": [
    "# Q2 Which year between 2000-2020 had the coolest average temperature?"
   ]
  },
  {
   "cell_type": "code",
   "execution_count": 16,
   "id": "00bbd556-c3a0-414d-99b7-aba4debbfef6",
   "metadata": {},
   "outputs": [
    {
     "data": {
      "text/html": [
       "<div>\n",
       "<style scoped>\n",
       "    .dataframe tbody tr th:only-of-type {\n",
       "        vertical-align: middle;\n",
       "    }\n",
       "\n",
       "    .dataframe tbody tr th {\n",
       "        vertical-align: top;\n",
       "    }\n",
       "\n",
       "    .dataframe thead th {\n",
       "        text-align: right;\n",
       "    }\n",
       "</style>\n",
       "<table border=\"1\" class=\"dataframe\">\n",
       "  <thead>\n",
       "    <tr style=\"text-align: right;\">\n",
       "      <th></th>\n",
       "      <th>cloud_cover</th>\n",
       "      <th>sunshine</th>\n",
       "      <th>global_radiation</th>\n",
       "      <th>max_temp</th>\n",
       "      <th>mean_temp</th>\n",
       "      <th>min_temp</th>\n",
       "      <th>precipitation</th>\n",
       "      <th>pressure</th>\n",
       "      <th>snow_depth</th>\n",
       "    </tr>\n",
       "    <tr>\n",
       "      <th>date</th>\n",
       "      <th></th>\n",
       "      <th></th>\n",
       "      <th></th>\n",
       "      <th></th>\n",
       "      <th></th>\n",
       "      <th></th>\n",
       "      <th></th>\n",
       "      <th></th>\n",
       "      <th></th>\n",
       "    </tr>\n",
       "  </thead>\n",
       "  <tbody>\n",
       "    <tr>\n",
       "      <th>2020-12-01</th>\n",
       "      <td>1.0</td>\n",
       "      <td>0.9</td>\n",
       "      <td>32.0</td>\n",
       "      <td>7.5</td>\n",
       "      <td>7.5</td>\n",
       "      <td>7.6</td>\n",
       "      <td>2.0</td>\n",
       "      <td>98000.0</td>\n",
       "      <td>NaN</td>\n",
       "    </tr>\n",
       "    <tr>\n",
       "      <th>2020-12-01</th>\n",
       "      <td>7.0</td>\n",
       "      <td>3.7</td>\n",
       "      <td>38.0</td>\n",
       "      <td>3.6</td>\n",
       "      <td>1.1</td>\n",
       "      <td>-1.3</td>\n",
       "      <td>0.2</td>\n",
       "      <td>97370.0</td>\n",
       "      <td>NaN</td>\n",
       "    </tr>\n",
       "    <tr>\n",
       "      <th>2020-12-01</th>\n",
       "      <td>7.0</td>\n",
       "      <td>0.0</td>\n",
       "      <td>21.0</td>\n",
       "      <td>4.1</td>\n",
       "      <td>2.6</td>\n",
       "      <td>1.1</td>\n",
       "      <td>0.0</td>\n",
       "      <td>98830.0</td>\n",
       "      <td>NaN</td>\n",
       "    </tr>\n",
       "    <tr>\n",
       "      <th>2020-12-01</th>\n",
       "      <td>6.0</td>\n",
       "      <td>0.4</td>\n",
       "      <td>22.0</td>\n",
       "      <td>5.6</td>\n",
       "      <td>2.7</td>\n",
       "      <td>-0.1</td>\n",
       "      <td>0.0</td>\n",
       "      <td>100200.0</td>\n",
       "      <td>NaN</td>\n",
       "    </tr>\n",
       "    <tr>\n",
       "      <th>2020-12-01</th>\n",
       "      <td>7.0</td>\n",
       "      <td>1.3</td>\n",
       "      <td>34.0</td>\n",
       "      <td>1.5</td>\n",
       "      <td>-0.8</td>\n",
       "      <td>-3.1</td>\n",
       "      <td>0.0</td>\n",
       "      <td>100500.0</td>\n",
       "      <td>NaN</td>\n",
       "    </tr>\n",
       "  </tbody>\n",
       "</table>\n",
       "</div>"
      ],
      "text/plain": [
       "            cloud_cover  sunshine  global_radiation  max_temp  mean_temp  \\\n",
       "date                                                                       \n",
       "2020-12-01          1.0       0.9              32.0       7.5        7.5   \n",
       "2020-12-01          7.0       3.7              38.0       3.6        1.1   \n",
       "2020-12-01          7.0       0.0              21.0       4.1        2.6   \n",
       "2020-12-01          6.0       0.4              22.0       5.6        2.7   \n",
       "2020-12-01          7.0       1.3              34.0       1.5       -0.8   \n",
       "\n",
       "            min_temp  precipitation  pressure  snow_depth  \n",
       "date                                                       \n",
       "2020-12-01       7.6            2.0   98000.0         NaN  \n",
       "2020-12-01      -1.3            0.2   97370.0         NaN  \n",
       "2020-12-01       1.1            0.0   98830.0         NaN  \n",
       "2020-12-01      -0.1            0.0  100200.0         NaN  \n",
       "2020-12-01      -3.1            0.0  100500.0         NaN  "
      ]
     },
     "execution_count": 16,
     "metadata": {},
     "output_type": "execute_result"
    }
   ],
   "source": [
    "dff2=df.loc['20000101':\"20201231\"]\n",
    "dff2.tail()"
   ]
  },
  {
   "cell_type": "code",
   "execution_count": 17,
   "id": "427ad682-122c-4818-9940-e224eaa8829e",
   "metadata": {},
   "outputs": [
    {
     "data": {
      "text/html": [
       "<div>\n",
       "<style scoped>\n",
       "    .dataframe tbody tr th:only-of-type {\n",
       "        vertical-align: middle;\n",
       "    }\n",
       "\n",
       "    .dataframe tbody tr th {\n",
       "        vertical-align: top;\n",
       "    }\n",
       "\n",
       "    .dataframe thead th {\n",
       "        text-align: right;\n",
       "    }\n",
       "</style>\n",
       "<table border=\"1\" class=\"dataframe\">\n",
       "  <thead>\n",
       "    <tr style=\"text-align: right;\">\n",
       "      <th></th>\n",
       "      <th>cloud_cover</th>\n",
       "      <th>sunshine</th>\n",
       "      <th>global_radiation</th>\n",
       "      <th>max_temp</th>\n",
       "      <th>mean_temp</th>\n",
       "      <th>min_temp</th>\n",
       "      <th>precipitation</th>\n",
       "      <th>pressure</th>\n",
       "      <th>snow_depth</th>\n",
       "    </tr>\n",
       "    <tr>\n",
       "      <th>date</th>\n",
       "      <th></th>\n",
       "      <th></th>\n",
       "      <th></th>\n",
       "      <th></th>\n",
       "      <th></th>\n",
       "      <th></th>\n",
       "      <th></th>\n",
       "      <th></th>\n",
       "      <th></th>\n",
       "    </tr>\n",
       "  </thead>\n",
       "  <tbody>\n",
       "    <tr>\n",
       "      <th>2000-12-31</th>\n",
       "      <td>5.763848</td>\n",
       "      <td>4.190087</td>\n",
       "      <td>114.883382</td>\n",
       "      <td>15.108746</td>\n",
       "      <td>11.532070</td>\n",
       "      <td>7.973469</td>\n",
       "      <td>2.107289</td>\n",
       "      <td>101337.405248</td>\n",
       "      <td>0.008746</td>\n",
       "    </tr>\n",
       "    <tr>\n",
       "      <th>2001-12-31</th>\n",
       "      <td>5.621387</td>\n",
       "      <td>4.714162</td>\n",
       "      <td>122.919075</td>\n",
       "      <td>14.965029</td>\n",
       "      <td>11.313006</td>\n",
       "      <td>7.641618</td>\n",
       "      <td>1.952023</td>\n",
       "      <td>101501.618497</td>\n",
       "      <td>0.000000</td>\n",
       "    </tr>\n",
       "    <tr>\n",
       "      <th>2002-12-31</th>\n",
       "      <td>5.757143</td>\n",
       "      <td>4.452857</td>\n",
       "      <td>120.857143</td>\n",
       "      <td>15.732000</td>\n",
       "      <td>12.006286</td>\n",
       "      <td>8.353143</td>\n",
       "      <td>2.148286</td>\n",
       "      <td>101383.600000</td>\n",
       "      <td>0.000000</td>\n",
       "    </tr>\n",
       "    <tr>\n",
       "      <th>2003-12-31</th>\n",
       "      <td>5.125356</td>\n",
       "      <td>5.505413</td>\n",
       "      <td>133.202279</td>\n",
       "      <td>16.494302</td>\n",
       "      <td>12.232764</td>\n",
       "      <td>7.986040</td>\n",
       "      <td>1.311396</td>\n",
       "      <td>101686.096866</td>\n",
       "      <td>0.025641</td>\n",
       "    </tr>\n",
       "    <tr>\n",
       "      <th>2004-12-31</th>\n",
       "      <td>5.636888</td>\n",
       "      <td>4.447550</td>\n",
       "      <td>121.383285</td>\n",
       "      <td>15.514409</td>\n",
       "      <td>11.872046</td>\n",
       "      <td>8.212392</td>\n",
       "      <td>1.710951</td>\n",
       "      <td>101563.717579</td>\n",
       "      <td>0.005764</td>\n",
       "    </tr>\n",
       "  </tbody>\n",
       "</table>\n",
       "</div>"
      ],
      "text/plain": [
       "            cloud_cover  sunshine  global_radiation   max_temp  mean_temp  \\\n",
       "date                                                                        \n",
       "2000-12-31     5.763848  4.190087        114.883382  15.108746  11.532070   \n",
       "2001-12-31     5.621387  4.714162        122.919075  14.965029  11.313006   \n",
       "2002-12-31     5.757143  4.452857        120.857143  15.732000  12.006286   \n",
       "2003-12-31     5.125356  5.505413        133.202279  16.494302  12.232764   \n",
       "2004-12-31     5.636888  4.447550        121.383285  15.514409  11.872046   \n",
       "\n",
       "            min_temp  precipitation       pressure  snow_depth  \n",
       "date                                                            \n",
       "2000-12-31  7.973469       2.107289  101337.405248    0.008746  \n",
       "2001-12-31  7.641618       1.952023  101501.618497    0.000000  \n",
       "2002-12-31  8.353143       2.148286  101383.600000    0.000000  \n",
       "2003-12-31  7.986040       1.311396  101686.096866    0.025641  \n",
       "2004-12-31  8.212392       1.710951  101563.717579    0.005764  "
      ]
     },
     "execution_count": 17,
     "metadata": {},
     "output_type": "execute_result"
    }
   ],
   "source": [
    "## Resample using .sum()\n",
    "temp2=dff2.resample(\"Y\").mean()\n",
    "temp2.head()"
   ]
  },
  {
   "cell_type": "code",
   "execution_count": 18,
   "id": "29a18bc5-9997-4cea-9ccc-7b8740893c93",
   "metadata": {},
   "outputs": [],
   "source": [
    "low_temp= temp2['mean_temp'].idxmax().strftime('%Y')\n",
    "locminor = mdates.YearLocator(1)\n",
    "locmajor = mdates.YearLocator(5)\n",
    "fmtyear = mdates.DateFormatter(\"%Y\")\n",
    "titlet=  'Average Temperature'\n",
    "ylabel='Degrees'"
   ]
  },
  {
   "cell_type": "code",
   "execution_count": 19,
   "id": "b2a710fe-357d-4d51-be96-38ee78b23000",
   "metadata": {},
   "outputs": [
    {
     "data": {
      "image/png": "[encoded data removed]",
      "text/plain": [
       "<Figure size 1200x300 with 1 Axes>"
      ]
     },
     "metadata": {},
     "output_type": "display_data"
    }
   ],
   "source": [
    "fig, ax = plt.subplots(figsize = (12,3))\n",
    "\n",
    "ax.set()\n",
    "\n",
    "#Set major ticks\n",
    "ax.xaxis.set_major_locator(locmajor)\n",
    "ax.xaxis.set_major_formatter(fmtyear)\n",
    "\n",
    "#Set minor ticks\n",
    "ax.xaxis.set_minor_locator(locminor)\n",
    "\n",
    "#Set ticklabel format\n",
    "ax.set_xticks(ax.get_xticks())\n",
    "ax.set_xticklabels(ax.get_xticklabels(), fontsize = 'large', fontweight= 'bold')\n",
    "\n",
    "\n",
    "fig = ax.get_figure()\n",
    "fig.autofmt_xdate(rotation=90, ha= 'center')\n",
    "\n",
    "temp2['mean_temp'].plot(ax=ax, title=titlet)\n",
    "ax.axvline(low_temp, color='blue', linestyle= \"--\", label=f'{low_temp}')\n",
    "ax.set_ylabel(ylabel)\n",
    "ax.legend(bbox_to_anchor=[1,1]);ax.legend(bbox_to_anchor=[1,1])\n",
    "plt.show();"
   ]
  },
  {
   "cell_type": "code",
   "execution_count": null,
   "id": "932d30a5-23f0-4d39-aace-f4736add58f4",
   "metadata": {},
   "outputs": [],
   "source": []
  }
 ],
 "metadata": {
  "kernelspec": {
   "display_name": "Python (dojo-env)",
   "language": "python",
   "name": "dojo-env"
  },
  "language_info": {
   "codemirror_mode": {
    "name": "ipython",
    "version": 3
   },
   "file_extension": ".py",
   "mimetype": "text/x-python",
   "name": "python",
   "nbconvert_exporter": "python",
   "pygments_lexer": "ipython3",
   "version": "3.10.10"
  },
  "widgets": {
   "application/vnd.jupyter.widget-state+json": {
    "state": {},
    "version_major": 2,
    "version_minor": 0
   }
  }
 },
 "nbformat": 4,
 "nbformat_minor": 5
}
